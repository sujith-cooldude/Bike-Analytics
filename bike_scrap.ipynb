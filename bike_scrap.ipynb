{
 "cells": [
  {
   "cell_type": "code",
   "execution_count": 42,
   "metadata": {},
   "outputs": [],
   "source": [
    "# packages to be installed\n",
    "from bs4 import BeautifulSoup\n",
    "import requests\n",
    "import pandas as pd"
   ]
  },
  {
   "attachments": {},
   "cell_type": "markdown",
   "metadata": {},
   "source": [
    "#### Data Scrapping starts here"
   ]
  },
  {
   "cell_type": "code",
   "execution_count": 94,
   "metadata": {},
   "outputs": [],
   "source": [
    "url = \"https://www.autobreeds.com/bikes/best-bikes-for-tall-riders-in-india-price-mileage-specifications-colours-images/\"\n",
    "res = requests.get(url)\n",
    "soup = BeautifulSoup(res.text,'lxml')"
   ]
  },
  {
   "cell_type": "code",
   "execution_count": 7,
   "metadata": {},
   "outputs": [],
   "source": [
    "tables = soup.find_all(\"table\")"
   ]
  },
  {
   "attachments": {},
   "cell_type": "markdown",
   "metadata": {},
   "source": [
    "Filtering Data on Price wise (Overall View)"
   ]
  },
  {
   "cell_type": "code",
   "execution_count": 95,
   "metadata": {},
   "outputs": [],
   "source": [
    "# Overview of bike info\n",
    "models = []\n",
    "price = []\n",
    "\n",
    "for data in tables[0].find_all('td')[3::2]:\n",
    "    price.append(data.text)\n",
    "for data in tables[0].find_all('td')[2::2]:\n",
    "    models.append(data.text)\n",
    "\n",
    "df = pd.DataFrame({\"model\":models,\"price(in lakhs)\":price})\n",
    "df['brand'] = df[\"model\"].str.split(\" \").str.get(0)\n",
    "\n",
    "df.to_excel(\"bike_list_for_tall_riders.xlsx\",index=False)"
   ]
  },
  {
   "attachments": {},
   "cell_type": "markdown",
   "metadata": {},
   "source": [
    "Creating a in depth information on the above vehicles"
   ]
  },
  {
   "cell_type": "code",
   "execution_count": 91,
   "metadata": {},
   "outputs": [],
   "source": [
    "all_models_data = []\n",
    "for i in range(1,16):\n",
    "    table_data = tables[i].find_all('td')\n",
    "    table_dict = {}\n",
    "    for j in range(0, len(table_data),2):\n",
    "        key = table_data[j].text.strip()\n",
    "        val = table_data[j+1].text.strip()\n",
    "        table_dict[key] = val\n",
    "    all_models_data.append(table_dict)\n",
    "\n",
    "master_df = pd.DataFrame(all_models_data)\n",
    "\n",
    "master_df.to_excel(\"Master_data.xlsx\",index=False)"
   ]
  }
 ],
 "metadata": {
  "kernelspec": {
   "display_name": "base",
   "language": "python",
   "name": "python3"
  },
  "language_info": {
   "codemirror_mode": {
    "name": "ipython",
    "version": 3
   },
   "file_extension": ".py",
   "mimetype": "text/x-python",
   "name": "python",
   "nbconvert_exporter": "python",
   "pygments_lexer": "ipython3",
   "version": "3.9.12"
  },
  "orig_nbformat": 4
 },
 "nbformat": 4,
 "nbformat_minor": 2
}
